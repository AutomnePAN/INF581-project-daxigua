{
 "cells": [
  {
   "cell_type": "markdown",
   "metadata": {},
   "source": [
    "# Project: DaXiGua Agency"
   ]
  },
  {
   "cell_type": "code",
   "execution_count": 1,
   "metadata": {},
   "outputs": [],
   "source": [
    "from State import State\n",
    "from Movement_evaluation import evaluate_by_gravity\n",
    "import numpy as np\n",
    "from Ball import Ball\n",
    "from Config import *"
   ]
  },
  {
   "cell_type": "markdown",
   "metadata": {},
   "source": [
    "## Test the movement evaluation"
   ]
  },
  {
   "cell_type": "markdown",
   "metadata": {},
   "source": [
    "运动规则如下：\n",
    "\n",
    "1. 所有球受重力影响下坠\n",
    "2. 与墙壁和地板的碰撞无反弹\n",
    "3. 有空气阻力，小球下落速度越大阻力越大\n",
    "4. 所有球之间的碰撞有一定的速度损失，并非完全弹性碰撞\n",
    "5. 两个同样大小的小球相撞后合成新的小球，新的小球半径增大50% （这一条需根据具体游戏规则再进行修改）"
   ]
  },
  {
   "cell_type": "code",
   "execution_count": 2,
   "metadata": {},
   "outputs": [],
   "source": [
    "state_test_1 = State(screen_x, \n",
    "                     screen_y, \n",
    "                     [Ball(np.array([200, 555]), np.array([-10, -10.0]), ball_level = 1), \n",
    "                      Ball(np.array([100, 20]), np.array([20, 0]), ball_level = 2),\n",
    "                      Ball(np.array([200, 20]), np.array([0, 0]), ball_level = 1), \n",
    "                      Ball(np.array([250, 156]), np.array([-10, 3]), ball_level = 0), \n",
    "                      Ball(np.array([340, 272]), np.array([29, 10]), ball_level = 0),], \n",
    "                     end_line)"
   ]
  },
  {
   "cell_type": "markdown",
   "metadata": {},
   "source": [
    "### Initial State\n",
    "<img src = \"figures/sample_1.PNG\" width=\"200\"/>"
   ]
  },
  {
   "cell_type": "code",
   "execution_count": 3,
   "metadata": {},
   "outputs": [
    {
     "name": "stdout",
     "output_type": "stream",
     "text": [
      "Position, x: 200, y: 555 \n",
      "Velocity, vx: -10.0, vy: -10.0 \n",
      "Radius: 40\n",
      "\n",
      "Position, x: 100, y: 20 \n",
      "Velocity, vx: 20, vy: 0 \n",
      "Radius: 54\n",
      "\n",
      "Position, x: 200, y: 20 \n",
      "Velocity, vx: 0, vy: 0 \n",
      "Radius: 40\n",
      "\n",
      "Position, x: 250, y: 156 \n",
      "Velocity, vx: -10, vy: 3 \n",
      "Radius: 26\n",
      "\n",
      "Position, x: 340, y: 272 \n",
      "Velocity, vx: 29, vy: 10 \n",
      "Radius: 26\n",
      "\n",
      "----------------------------------------------------------------\n"
     ]
    }
   ],
   "source": [
    "state_test_1.plot_state()"
   ]
  },
  {
   "cell_type": "code",
   "execution_count": 4,
   "metadata": {
    "scrolled": true
   },
   "outputs": [
    {
     "name": "stderr",
     "output_type": "stream",
     "text": [
      "'timeit' 不是内部或外部命令，也不是可运行的程序\n",
      "或批处理文件。\n"
     ]
    },
    {
     "data": {
      "text/plain": [
       "<State.State at 0x1fd597b84c8>"
      ]
     },
     "execution_count": 4,
     "metadata": {},
     "output_type": "execute_result"
    }
   ],
   "source": [
    "!timeit\n",
    "evaluate_by_gravity(state_test_1, plot=False)"
   ]
  },
  {
   "cell_type": "code",
   "execution_count": 5,
   "metadata": {},
   "outputs": [
    {
     "name": "stdout",
     "output_type": "stream",
     "text": [
      "Position, x: 150.16624042035517, y: 54.0 \n",
      "Velocity, vx: 0, vy: 0 \n",
      "Radius: 54\n",
      "\n",
      "Position, x: 264.8436312103436, y: 26.0 \n",
      "Velocity, vx: 0, vy: 0 \n",
      "Radius: 26\n",
      "\n",
      "Position, x: 326.0, y: 26.0 \n",
      "Velocity, vx: 0, vy: 0 \n",
      "Radius: 26\n",
      "\n",
      "----------------------------------------------------------------\n"
     ]
    }
   ],
   "source": [
    "state_test_1.plot_state()"
   ]
  },
  {
   "cell_type": "markdown",
   "metadata": {},
   "source": [
    "### State after evaluation\n",
    "<img src = \"figures/sample_1_res.PNG\" width=\"200\"/>"
   ]
  },
  {
   "cell_type": "code",
   "execution_count": 6,
   "metadata": {},
   "outputs": [],
   "source": [
    "state_test_1.balls.append( Ball(np.array([200, 750]), np.array([0, 0.0]), 33, color=(150, 100, 247)) )"
   ]
  },
  {
   "cell_type": "code",
   "execution_count": 7,
   "metadata": {},
   "outputs": [
    {
     "name": "stdout",
     "output_type": "stream",
     "text": [
      "Position, x: 192.37579264623875, y: 30.0 \n",
      "Velocity, vx: 0, vy: 0 \n",
      "Radius: 30.0\n",
      "\n",
      "Position, x: 114.3371192086179, y: 45.0 \n",
      "Velocity, vx: 0, vy: 0 \n",
      "Radius: 45.0\n",
      "\n",
      "Position, x: 300.45818872561074, y: 60.0 \n",
      "Velocity, vx: 0, vy: 0 \n",
      "Radius: 60.0\n",
      "\n",
      "Position, x: 229.26807863281417, y: 10.0 \n",
      "Velocity, vx: 0, vy: 0 \n",
      "Radius: 10\n",
      "\n",
      "Position, x: 370.8080121224623, y: 10.0 \n",
      "Velocity, vx: 0, vy: 0 \n",
      "Radius: 10\n",
      "\n",
      "Position, x: 200, y: 750 \n",
      "Velocity, vx: 0.0, vy: 0.0 \n",
      "Radius: 33\n",
      "\n",
      "----------------------------------------------------------------\n"
     ]
    }
   ],
   "source": [
    "state_test_1.plot_state()"
   ]
  },
  {
   "cell_type": "code",
   "execution_count": 8,
   "metadata": {},
   "outputs": [
    {
     "data": {
      "text/plain": [
       "<State.State at 0x1733a6f3208>"
      ]
     },
     "execution_count": 8,
     "metadata": {},
     "output_type": "execute_result"
    }
   ],
   "source": [
    "evaluate_by_gravity(state_test_1, plot=False)"
   ]
  },
  {
   "cell_type": "code",
   "execution_count": 9,
   "metadata": {},
   "outputs": [
    {
     "name": "stdout",
     "output_type": "stream",
     "text": [
      "Position, x: 180.15059090056218, y: 30.0 \n",
      "Velocity, vx: 0, vy: 0 \n",
      "Radius: 30.0\n",
      "\n",
      "Position, x: 106.7081459029296, y: 45.00496905919857 \n",
      "Velocity, vx: 0, vy: 0 \n",
      "Radius: 45.0\n",
      "\n",
      "Position, x: 313.9158006200279, y: 60.0 \n",
      "Velocity, vx: 0, vy: 0 \n",
      "Radius: 60.0\n",
      "\n",
      "Position, x: 229.26807863281417, y: 10.0 \n",
      "Velocity, vx: 0, vy: 0 \n",
      "Radius: 10\n",
      "\n",
      "Position, x: 370.8080121224623, y: 10.0 \n",
      "Velocity, vx: 0, vy: 0 \n",
      "Radius: 10\n",
      "\n",
      "Position, x: 222.4201128932896, y: 76.65329395050124 \n",
      "Velocity, vx: 0, vy: 0 \n",
      "Radius: 33\n",
      "\n",
      "----------------------------------------------------------------\n"
     ]
    }
   ],
   "source": [
    "state_test_1.plot_state()"
   ]
  },
  {
   "cell_type": "code",
   "execution_count": 10,
   "metadata": {},
   "outputs": [],
   "source": [
    "class Game(object):\n",
    "    \n",
    "    \"\"\"\n",
    "    Implement the environment of the Game\n",
    "    \"\"\"\n",
    "    \n",
    "    def __init__(self, screen_x, screen_y, ball_setting ):\n",
    "        \"\"\"\n",
    "        screen_x: float, the width of the screen\n",
    "        screen_y: float, the height of the screen\n",
    "        ball_setting: Dict( radius: float, reward: float ), the sizes of balls and corresponding rewards used in the function\n",
    "        \"\"\"\n",
    "        \n",
    "        self.screen_x = screen_x\n",
    "        self.screen_y = screen_y\n",
    "        self.ball_setting = ball_setting\n",
    "        self.current_state = None  # TO DO\n",
    "        self.init_state()\n",
    "        \n",
    "#         --TO ADD MORE--\n",
    "        \n",
    "    def init_state(self):\n",
    "#         --TO DO--\n",
    "        return \n",
    "\n",
    "    def check_fin(self):\n",
    "#         --TO DO--\n",
    "        return \n",
    "    \n",
    "    def calculate_reward():\n",
    "#         --TO DO--\n",
    "        return \n",
    "\n",
    "#     ---TO ADD MORE---"
   ]
  }
 ],
 "metadata": {
  "kernelspec": {
   "display_name": "Python 3",
   "language": "python",
   "name": "python3"
  },
  "language_info": {
   "codemirror_mode": {
    "name": "ipython",
    "version": 3
   },
   "file_extension": ".py",
   "mimetype": "text/x-python",
   "name": "python",
   "nbconvert_exporter": "python",
   "pygments_lexer": "ipython3",
   "version": "3.7.6"
  }
 },
 "nbformat": 4,
 "nbformat_minor": 2
}
