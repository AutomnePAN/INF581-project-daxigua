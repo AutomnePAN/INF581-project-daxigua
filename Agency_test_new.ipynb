{
 "cells": [
  {
   "cell_type": "markdown",
   "metadata": {},
   "source": [
    "# Project: DaXiGua Agency"
   ]
  },
  {
   "cell_type": "code",
   "execution_count": 22,
   "metadata": {},
   "outputs": [],
   "source": [
    "from State import State\n",
    "from Movement_evaluation import evaluate_by_gravity\n",
    "import numpy as np\n",
    "import random\n",
    "import time\n",
    "from Ball import Ball\n",
    "from Config import *\n",
    "from Game import Game"
   ]
  },
  {
   "cell_type": "markdown",
   "metadata": {},
   "source": [
    "## Test the movement evaluation"
   ]
  },
  {
   "cell_type": "markdown",
   "metadata": {},
   "source": [
    "运动规则如下：\n",
    "\n",
    "1. 所有球受重力影响下坠\n",
    "2. 与墙壁和地板的碰撞无反弹\n",
    "3. 有空气阻力，小球下落速度越大阻力越大\n",
    "4. 所有球之间的碰撞有一定的速度损失，并非完全弹性碰撞\n",
    "5. 两个同样大小的小球相撞后合成新的小球，新的小球半径增大50% （这一条需根据具体游戏规则再进行修改）"
   ]
  },
  {
   "cell_type": "code",
   "execution_count": 2,
   "metadata": {},
   "outputs": [],
   "source": [
    "state_test_1 = State(screen_x, \n",
    "                     screen_y, \n",
    "                     [Ball(np.array([200, 555]), np.array([-10, -10.0]), ball_level = 1), \n",
    "                      Ball(np.array([100, 60]), np.array([20, 0]), ball_level = 2),\n",
    "                      Ball(np.array([200, 60]), np.array([0, 0]), ball_level = 1),\n",
    "                      Ball(np.array([300, 200]), np.array([0, 0]), ball_level = 0)],\n",
    "                     end_line)"
   ]
  },
  {
   "cell_type": "code",
   "execution_count": 3,
   "metadata": {},
   "outputs": [
    {
     "data": {
      "image/png": "[encoded data removed]",
      "text/plain": [
       "<Figure size 432x288 with 1 Axes>"
      ]
     },
     "metadata": {},
     "output_type": "display_data"
    }
   ],
   "source": [
    "state_test_1.plot_state(is_plt=True)"
   ]
  },
  {
   "cell_type": "markdown",
   "metadata": {},
   "source": [
    "### Initial State\n",
    "<img src = \"figures/sample_2.jpg\" width=\"200\"/>"
   ]
  },
  {
   "cell_type": "code",
   "execution_count": 4,
   "metadata": {
    "scrolled": true
   },
   "outputs": [
    {
     "name": "stdout",
     "output_type": "stream",
     "text": [
      "Remove a cherry, obtain 2 score\n",
      "Remove a orange, obtain 3 score\n",
      "5\n"
     ]
    }
   ],
   "source": [
    "state_test_1, obtained_score = evaluate_by_gravity(state_test_1, plot=False, verbose = True)\n",
    "print(obtained_score)"
   ]
  },
  {
   "cell_type": "code",
   "execution_count": 5,
   "metadata": {},
   "outputs": [],
   "source": [
    "state_test_1.plot_state()"
   ]
  },
  {
   "cell_type": "markdown",
   "metadata": {},
   "source": [
    "### State after evaluation\n",
    "<img src = \"figures/sample_2_res.jpg\" width=\"200\"/>"
   ]
  },
  {
   "cell_type": "markdown",
   "metadata": {},
   "source": [
    "## Test game"
   ]
  },
  {
   "cell_type": "code",
   "execution_count": 6,
   "metadata": {},
   "outputs": [],
   "source": [
    "game = Game(screen_x, screen_y, end_line, balls_setting, max_random_ball_level)"
   ]
  },
  {
   "cell_type": "code",
   "execution_count": 7,
   "metadata": {},
   "outputs": [],
   "source": [
    "# the inital state of the game\n",
    "game.current_state.plot_state()"
   ]
  },
  {
   "cell_type": "markdown",
   "metadata": {},
   "source": [
    "### Step 0\n",
    "<img src = \"figures/sample_game_step0.jpg\" width=\"200\"/>"
   ]
  },
  {
   "cell_type": "code",
   "execution_count": 8,
   "metadata": {},
   "outputs": [],
   "source": [
    "# We drop the ball from the middle of the screen\n",
    "action = screen_x/2\n",
    "next_state, reward, is_finish = game.next_step(action)"
   ]
  },
  {
   "cell_type": "code",
   "execution_count": 10,
   "metadata": {},
   "outputs": [],
   "source": [
    "next_state.plot_state()"
   ]
  },
  {
   "cell_type": "markdown",
   "metadata": {},
   "source": [
    "### Step 1\n",
    "The green ball drops to the bottom, and a new blue ball is added\n",
    "<img src = \"figures/sample_game_step1.jpg\" width=\"200\"/>"
   ]
  },
  {
   "cell_type": "markdown",
   "metadata": {},
   "source": [
    "# Test Environment with a Random Agent"
   ]
  },
  {
   "cell_type": "code",
   "execution_count": 18,
   "metadata": {},
   "outputs": [],
   "source": [
    "class Random_Agent(object):\n",
    "        \n",
    "    def get_action(self, state):\n",
    "        \n",
    "        return random.randint(0, int(state.screen_x))"
   ]
  },
  {
   "cell_type": "code",
   "execution_count": 19,
   "metadata": {},
   "outputs": [],
   "source": [
    "def play_one_episode(game, agent):\n",
    "    is_finish = False\n",
    "    current_state = game.init_state()\n",
    "    reward_recorder = []\n",
    "\n",
    "    while not is_finish:\n",
    "\n",
    "        action = agent.get_action(current_state)\n",
    "        next_state, reward, is_finish = game.next_step(action, verbose = False)\n",
    "        reward_recorder.append(reward)\n",
    "        current_state = next_state\n",
    "    \n",
    "    return sum(reward_recorder), reward_recorder"
   ]
  },
  {
   "cell_type": "code",
   "execution_count": 23,
   "metadata": {
    "scrolled": true
   },
   "outputs": [
    {
     "name": "stdout",
     "output_type": "stream",
     "text": [
      "The game is finish.\n",
      "0 \t th episode:  2270\n",
      "The game is finish.\n",
      "1 \t th episode:  3442\n",
      "The game is finish.\n",
      "2 \t th episode:  3070\n",
      "The game is finish.\n",
      "3 \t th episode:  1543\n",
      "The game is finish.\n",
      "4 \t th episode:  759\n",
      "The game is finish.\n",
      "5 \t th episode:  1969\n",
      "The game is finish.\n",
      "6 \t th episode:  3087\n",
      "The game is finish.\n",
      "7 \t th episode:  1390\n",
      "The game is finish.\n",
      "8 \t th episode:  1510\n",
      "The game is finish.\n",
      "9 \t th episode:  1082\n",
      "The game is finish.\n",
      "10 \t th episode:  2194\n",
      "The game is finish.\n",
      "11 \t th episode:  794\n",
      "The game is finish.\n",
      "12 \t th episode:  1499\n",
      "The game is finish.\n",
      "13 \t th episode:  1402\n",
      "The game is finish.\n",
      "14 \t th episode:  2471\n",
      "The game is finish.\n",
      "15 \t th episode:  1177\n",
      "The game is finish.\n",
      "16 \t th episode:  840\n",
      "The game is finish.\n",
      "17 \t th episode:  1902\n",
      "The game is finish.\n",
      "18 \t th episode:  789\n",
      "The game is finish.\n",
      "19 \t th episode:  2068\n",
      "The game is finish.\n",
      "20 \t th episode:  2366\n",
      "The game is finish.\n",
      "21 \t th episode:  2632\n",
      "The game is finish.\n",
      "22 \t th episode:  2045\n",
      "The game is finish.\n",
      "23 \t th episode:  690\n",
      "The game is finish.\n",
      "24 \t th episode:  1147\n",
      "The game is finish.\n",
      "25 \t th episode:  942\n",
      "The game is finish.\n",
      "26 \t th episode:  1395\n",
      "The game is finish.\n",
      "27 \t th episode:  1464\n",
      "The game is finish.\n",
      "28 \t th episode:  1962\n",
      "The game is finish.\n",
      "29 \t th episode:  2156\n",
      "The game is finish.\n",
      "30 \t th episode:  1412\n",
      "The game is finish.\n",
      "31 \t th episode:  1822\n",
      "The game is finish.\n",
      "32 \t th episode:  511\n",
      "The game is finish.\n",
      "33 \t th episode:  1869\n",
      "The game is finish.\n",
      "34 \t th episode:  3190\n",
      "The game is finish.\n",
      "35 \t th episode:  870\n",
      "The game is finish.\n",
      "36 \t th episode:  850\n",
      "The game is finish.\n",
      "37 \t th episode:  1981\n",
      "The game is finish.\n",
      "38 \t th episode:  4754\n",
      "The game is finish.\n",
      "39 \t th episode:  1290\n",
      "The game is finish.\n",
      "40 \t th episode:  838\n",
      "The game is finish.\n",
      "41 \t th episode:  1658\n",
      "The game is finish.\n",
      "42 \t th episode:  3048\n",
      "The game is finish.\n",
      "43 \t th episode:  2370\n",
      "The game is finish.\n",
      "44 \t th episode:  1396\n",
      "The game is finish.\n",
      "45 \t th episode:  266\n",
      "The game is finish.\n",
      "46 \t th episode:  250\n",
      "The game is finish.\n",
      "47 \t th episode:  1505\n",
      "The game is finish.\n",
      "48 \t th episode:  970\n",
      "The game is finish.\n",
      "49 \t th episode:  2483\n",
      "The game is finish.\n",
      "50 \t th episode:  2670\n",
      "The game is finish.\n",
      "51 \t th episode:  1736\n",
      "The game is finish.\n",
      "52 \t th episode:  1644\n",
      "The game is finish.\n",
      "53 \t th episode:  206\n",
      "The game is finish.\n",
      "54 \t th episode:  1465\n",
      "The game is finish.\n",
      "55 \t th episode:  1232\n",
      "The game is finish.\n",
      "56 \t th episode:  3606\n",
      "The game is finish.\n",
      "57 \t th episode:  1603\n",
      "The game is finish.\n",
      "58 \t th episode:  1972\n",
      "The game is finish.\n",
      "59 \t th episode:  1146\n",
      "The game is finish.\n",
      "60 \t th episode:  3044\n",
      "The game is finish.\n",
      "61 \t th episode:  677\n",
      "The game is finish.\n",
      "62 \t th episode:  1228\n",
      "The game is finish.\n",
      "63 \t th episode:  973\n",
      "The game is finish.\n",
      "64 \t th episode:  2634\n",
      "The game is finish.\n",
      "65 \t th episode:  1006\n",
      "The game is finish.\n",
      "66 \t th episode:  1683\n",
      "The game is finish.\n",
      "67 \t th episode:  996\n",
      "The game is finish.\n",
      "68 \t th episode:  1812\n",
      "The game is finish.\n",
      "69 \t th episode:  1904\n",
      "The game is finish.\n",
      "70 \t th episode:  725\n",
      "The game is finish.\n",
      "71 \t th episode:  1621\n",
      "The game is finish.\n",
      "72 \t th episode:  790\n",
      "The game is finish.\n",
      "73 \t th episode:  1029\n",
      "The game is finish.\n",
      "74 \t th episode:  992\n",
      "The game is finish.\n",
      "75 \t th episode:  510\n",
      "The game is finish.\n",
      "76 \t th episode:  402\n",
      "The game is finish.\n",
      "77 \t th episode:  76\n",
      "The game is finish.\n",
      "78 \t th episode:  380\n",
      "The game is finish.\n",
      "79 \t th episode:  1427\n",
      "The game is finish.\n",
      "80 \t th episode:  2309\n",
      "The game is finish.\n",
      "81 \t th episode:  2268\n",
      "The game is finish.\n",
      "82 \t th episode:  358\n",
      "The game is finish.\n",
      "83 \t th episode:  919\n",
      "The game is finish.\n",
      "84 \t th episode:  1666\n",
      "The game is finish.\n",
      "85 \t th episode:  1615\n",
      "The game is finish.\n",
      "86 \t th episode:  873\n",
      "The game is finish.\n",
      "87 \t th episode:  1805\n",
      "The game is finish.\n",
      "88 \t th episode:  2737\n",
      "The game is finish.\n",
      "89 \t th episode:  1879\n",
      "The game is finish.\n",
      "90 \t th episode:  1372\n",
      "The game is finish.\n",
      "91 \t th episode:  2046\n",
      "The game is finish.\n",
      "92 \t th episode:  2280\n",
      "The game is finish.\n",
      "93 \t th episode:  501\n",
      "The game is finish.\n",
      "94 \t th episode:  2430\n",
      "The game is finish.\n",
      "95 \t th episode:  1105\n",
      "The game is finish.\n",
      "96 \t th episode:  1720\n",
      "The game is finish.\n",
      "97 \t th episode:  1789\n",
      "The game is finish.\n",
      "98 \t th episode:  1296\n",
      "The game is finish.\n",
      "99 \t th episode:  1341\n",
      "15.0\n"
     ]
    }
   ],
   "source": [
    "random_agent = Random_Agent()\n",
    "\n",
    "final_rewards = []\n",
    "\n",
    "start_time = time.time()\n",
    "for i in range(100):\n",
    "    game = Game(screen_x, screen_y, end_line, balls_setting, max_random_ball_level)\n",
    "    R, _ = play_one_episode(game, random_agent)\n",
    "    print(i, \"\\t th episode: \", R)\n",
    "    final_rewards.append(R)\n",
    "end_time = time.time()\n",
    "\n",
    "print( (end_time - start_time)//60 )"
   ]
  },
  {
   "cell_type": "code",
   "execution_count": 14,
   "metadata": {},
   "outputs": [],
   "source": [
    "from matplotlib import pyplot as plt"
   ]
  },
  {
   "cell_type": "code",
   "execution_count": 24,
   "metadata": {},
   "outputs": [
    {
     "data": {
      "text/plain": [
       "(array([10., 19., 20., 21., 15.,  7.,  5.,  2.,  0.,  1.]),\n",
       " array([  76. ,  543.8, 1011.6, 1479.4, 1947.2, 2415. , 2882.8, 3350.6,\n",
       "        3818.4, 4286.2, 4754. ]),\n",
       " <a list of 10 Patch objects>)"
      ]
     },
     "execution_count": 24,
     "metadata": {},
     "output_type": "execute_result"
    },
    {
     "data": {
      "image/png": "[encoded data removed]",
      "text/plain": [
       "<Figure size 432x288 with 1 Axes>"
      ]
     },
     "metadata": {
      "needs_background": "light"
     },
     "output_type": "display_data"
    }
   ],
   "source": [
    "plt.hist(final_rewards)"
   ]
  }
 ],
 "metadata": {
  "kernelspec": {
   "display_name": "Python 3",
   "language": "python",
   "name": "python3"
  },
  "language_info": {
   "codemirror_mode": {
    "name": "ipython",
    "version": 3
   },
   "file_extension": ".py",
   "mimetype": "text/x-python",
   "name": "python",
   "nbconvert_exporter": "python",
   "pygments_lexer": "ipython3",
   "version": "3.6.9"
  }
 },
 "nbformat": 4,
 "nbformat_minor": 2
}
