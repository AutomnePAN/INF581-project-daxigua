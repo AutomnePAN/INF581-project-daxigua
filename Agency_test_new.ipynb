{
 "cells": [
  {
   "cell_type": "markdown",
   "metadata": {},
   "source": [
    "# Project: DaXiGua Agency"
   ]
  },
  {
   "cell_type": "code",
   "execution_count": 1,
   "metadata": {},
   "outputs": [],
   "source": [
    "from State import State\n",
    "from Movement_evaluation import evaluate_by_gravity\n",
    "import numpy as np\n",
    "from Ball import Ball\n",
    "from Config import *\n",
    "from Game import Game"
   ]
  },
  {
   "cell_type": "markdown",
   "metadata": {},
   "source": [
    "## Test the movement evaluation"
   ]
  },
  {
   "cell_type": "markdown",
   "metadata": {},
   "source": [
    "运动规则如下：\n",
    "\n",
    "1. 所有球受重力影响下坠\n",
    "2. 与墙壁和地板的碰撞无反弹\n",
    "3. 有空气阻力，小球下落速度越大阻力越大\n",
    "4. 所有球之间的碰撞有一定的速度损失，并非完全弹性碰撞\n",
    "5. 两个同样大小的小球相撞后合成新的小球，新的小球半径增大50% （这一条需根据具体游戏规则再进行修改）"
   ]
  },
  {
   "cell_type": "code",
   "execution_count": 9,
   "metadata": {},
   "outputs": [],
   "source": [
    "state_test_1 = State(screen_x, \n",
    "                     screen_y, \n",
    "                     [Ball(np.array([200, 555]), np.array([-10, -10.0]), ball_level = 1), \n",
    "                      Ball(np.array([100, 60]), np.array([20, 0]), ball_level = 2),\n",
    "                      Ball(np.array([200, 60]), np.array([0, 0]), ball_level = 1),\n",
    "                      Ball(np.array([300, 200]), np.array([0, 0]), ball_level = 0)],\n",
    "                     end_line)"
   ]
  },
  {
   "cell_type": "code",
   "execution_count": 10,
   "metadata": {},
   "outputs": [
    {
     "data": {
      "image/png": "[encoded data removed]",
      "text/plain": [
       "<Figure size 432x288 with 1 Axes>"
      ]
     },
     "metadata": {},
     "output_type": "display_data"
    }
   ],
   "source": [
    "state_test_1.plot_state(is_plt=True)"
   ]
  },
  {
   "cell_type": "markdown",
   "metadata": {},
   "source": [
    "### Initial State\n",
    "<img src = \"figures/sample_2.jpg\" width=\"200\"/>"
   ]
  },
  {
   "cell_type": "code",
   "execution_count": 11,
   "metadata": {
    "scrolled": true
   },
   "outputs": [
    {
     "name": "stdout",
     "output_type": "stream",
     "text": [
      "Remove a cherry, obtain 2 score\n",
      "Remove a orange, obtain 3 score\n",
      "5\n"
     ]
    }
   ],
   "source": [
    "state_test_1, obtained_score = evaluate_by_gravity(state_test_1, plot=False, verbose = True)\n",
    "print(obtained_score)"
   ]
  },
  {
   "cell_type": "code",
   "execution_count": 12,
   "metadata": {},
   "outputs": [],
   "source": [
    "state_test_1.plot_state()"
   ]
  },
  {
   "cell_type": "markdown",
   "metadata": {},
   "source": [
    "### State after evaluation\n",
    "<img src = \"figures/sample_2_res.jpg\" width=\"200\"/>"
   ]
  },
  {
   "cell_type": "markdown",
   "metadata": {},
   "source": [
    "## Test game"
   ]
  },
  {
   "cell_type": "code",
   "execution_count": 6,
   "metadata": {},
   "outputs": [],
   "source": [
    "game = Game(screen_x, screen_y, end_line, balls_setting, max_random_ball_level)"
   ]
  },
  {
   "cell_type": "code",
   "execution_count": 7,
   "metadata": {},
   "outputs": [
    {
     "name": "stdout",
     "output_type": "stream",
     "text": [
      "(22, 19)\n",
      "<class 'str'>\n"
     ]
    }
   ],
   "source": [
    "# the inital state of the game\n",
    "game.current_state.plot_state()"
   ]
  },
  {
   "cell_type": "markdown",
   "metadata": {},
   "source": [
    "### Step 0\n",
    "<img src = \"figures/sample_game_step0.jpg\" width=\"200\"/>"
   ]
  },
  {
   "cell_type": "code",
   "execution_count": 8,
   "metadata": {},
   "outputs": [],
   "source": [
    "# We drop the ball from the middle of the screen\n",
    "action = screen_x/2\n",
    "next_state, reward, is_finish = game.next_step(action)"
   ]
  },
  {
   "cell_type": "code",
   "execution_count": 9,
   "metadata": {},
   "outputs": [
    {
     "name": "stdout",
     "output_type": "stream",
     "text": [
      "(22, 19)\n",
      "<class 'str'>\n",
      "(22, 19)\n",
      "<class 'str'>\n"
     ]
    }
   ],
   "source": [
    "next_state.plot_state()"
   ]
  },
  {
   "cell_type": "markdown",
   "metadata": {},
   "source": [
    "### Step 1\n",
    "The green ball drops to the bottom, and a new blue ball is added\n",
    "<img src = \"figures/sample_game_step1.jpg\" width=\"200\"/>"
   ]
  }
 ],
 "metadata": {
  "kernelspec": {
   "display_name": "Python 3",
   "language": "python",
   "name": "python3"
  },
  "language_info": {
   "codemirror_mode": {
    "name": "ipython",
    "version": 3
   },
   "file_extension": ".py",
   "mimetype": "text/x-python",
   "name": "python",
   "nbconvert_exporter": "python",
   "pygments_lexer": "ipython3",
   "version": "3.8.3"
  }
 },
 "nbformat": 4,
 "nbformat_minor": 2
}
