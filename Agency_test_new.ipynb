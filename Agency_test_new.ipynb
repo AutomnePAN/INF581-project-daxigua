{
 "cells": [
  {
   "cell_type": "markdown",
   "metadata": {},
   "source": [
    "# Project: DaXiGua Agency"
   ]
  },
  {
   "cell_type": "code",
   "execution_count": 5,
   "metadata": {},
   "outputs": [],
   "source": [
    "from State import State\n",
    "from Movement_evaluation import evaluate_by_gravity\n",
    "import numpy as np\n",
    "import random\n",
    "import time\n",
    "from Ball import Ball\n",
    "from Config import *\n",
    "from Game import Game"
   ]
  },
  {
   "cell_type": "markdown",
   "metadata": {},
   "source": [
    "## Test the movement evaluation"
   ]
  },
  {
   "cell_type": "markdown",
   "metadata": {},
   "source": [
    "运动规则如下：\n",
    "\n",
    "1. 所有球受重力影响下坠\n",
    "2. 与墙壁和地板的碰撞无反弹\n",
    "3. 有空气阻力，小球下落速度越大阻力越大\n",
    "4. 所有球之间的碰撞有一定的速度损失，并非完全弹性碰撞\n",
    "5. 两个同样大小的小球相撞后合成新的小球，新的小球半径增大50% （这一条需根据具体游戏规则再进行修改）"
   ]
  },
  {
   "cell_type": "code",
   "execution_count": 2,
   "metadata": {},
   "outputs": [],
   "source": [
    "state_test_1 = State(screen_x, \n",
    "                     screen_y, \n",
    "                     [Ball(np.array([200, 555]), np.array([-10, -10.0]), ball_level = 1), \n",
    "                      Ball(np.array([100, 60]), np.array([20, 0]), ball_level = 2),\n",
    "                      Ball(np.array([200, 60]), np.array([0, 0]), ball_level = 1),\n",
    "                      Ball(np.array([300, 200]), np.array([0, 0]), ball_level = 0)],\n",
    "                     end_line)"
   ]
  },
  {
   "cell_type": "code",
   "execution_count": 3,
   "metadata": {},
   "outputs": [
    {
     "data": {
      "image/png": "[encoded data removed]",
      "text/plain": [
       "<Figure size 432x288 with 1 Axes>"
      ]
     },
     "metadata": {},
     "output_type": "display_data"
    }
   ],
   "source": [
    "state_test_1.plot_state(is_plt=True)"
   ]
  },
  {
   "cell_type": "markdown",
   "metadata": {},
   "source": [
    "### Initial State\n",
    "<img src = \"figures/sample_2.jpg\" width=\"200\"/>"
   ]
  },
  {
   "cell_type": "code",
   "execution_count": 4,
   "metadata": {
    "scrolled": true
   },
   "outputs": [
    {
     "name": "stdout",
     "output_type": "stream",
     "text": [
      "Remove a cherry, obtain 2 score\n",
      "Remove a orange, obtain 3 score\n",
      "5\n"
     ]
    }
   ],
   "source": [
    "state_test_1, obtained_score = evaluate_by_gravity(state_test_1, plot=False, verbose = True)\n",
    "print(obtained_score)"
   ]
  },
  {
   "cell_type": "code",
   "execution_count": 5,
   "metadata": {},
   "outputs": [],
   "source": [
    "state_test_1.plot_state()"
   ]
  },
  {
   "cell_type": "markdown",
   "metadata": {},
   "source": [
    "### State after evaluation\n",
    "<img src = \"figures/sample_2_res.jpg\" width=\"200\"/>"
   ]
  },
  {
   "cell_type": "markdown",
   "metadata": {},
   "source": [
    "## Test game"
   ]
  },
  {
   "cell_type": "code",
   "execution_count": 6,
   "metadata": {},
   "outputs": [],
   "source": [
    "game = Game(screen_x, screen_y, end_line, balls_setting, max_random_ball_level)"
   ]
  },
  {
   "cell_type": "code",
   "execution_count": 7,
   "metadata": {},
   "outputs": [],
   "source": [
    "# the inital state of the game\n",
    "game.current_state.plot_state()"
   ]
  },
  {
   "cell_type": "markdown",
   "metadata": {},
   "source": [
    "### Step 0\n",
    "<img src = \"figures/sample_game_step0.jpg\" width=\"200\"/>"
   ]
  },
  {
   "cell_type": "code",
   "execution_count": 8,
   "metadata": {},
   "outputs": [],
   "source": [
    "# We drop the ball from the middle of the screen\n",
    "action = screen_x/2\n",
    "next_state, reward, is_finish = game.next_step(action)"
   ]
  },
  {
   "cell_type": "code",
   "execution_count": 10,
   "metadata": {},
   "outputs": [],
   "source": [
    "next_state.plot_state()"
   ]
  },
  {
   "cell_type": "markdown",
   "metadata": {},
   "source": [
    "### Step 1\n",
    "The green ball drops to the bottom, and a new blue ball is added\n",
    "<img src = \"figures/sample_game_step1.jpg\" width=\"200\"/>"
   ]
  },
  {
   "cell_type": "markdown",
   "metadata": {},
   "source": [
    "# Test Environment with a Random Agent"
   ]
  },
  {
   "cell_type": "code",
   "execution_count": 6,
   "metadata": {},
   "outputs": [],
   "source": [
    "class Random_Agent(object):\n",
    "        \n",
    "    def get_action(self, state):\n",
    "        \n",
    "        return random.randint(0, int(state.screen_x))"
   ]
  },
  {
   "cell_type": "code",
   "execution_count": 12,
   "metadata": {},
   "outputs": [],
   "source": [
    "def play_one_episode(game, agent):\n",
    "    is_finish = False\n",
    "    current_state = game.init_state()\n",
    "    reward_recorder = []\n",
    "    step = 1\n",
    "\n",
    "    while not is_finish:\n",
    "        action = agent.get_action(current_state)\n",
    "        next_state, reward, is_finish = game.next_step(action, verbose = False)\n",
    "        reward_recorder.append(reward)\n",
    "        current_state = next_state\n",
    "    \n",
    "    return sum(reward_recorder), reward_recorder, game.current_reward"
   ]
  },
  {
   "cell_type": "code",
   "execution_count": 14,
   "metadata": {
    "scrolled": true
   },
   "outputs": [
    {
     "name": "stdout",
     "output_type": "stream",
     "text": [
      "The game is finish, final score is 314\n",
      "0 \t th episode:  11290\n",
      "The game is finish, final score is 225\n",
      "1 \t th episode:  5887\n",
      "The game is finish, final score is 275\n",
      "2 \t th episode:  7937\n",
      "The game is finish, final score is 461\n",
      "3 \t th episode:  24614\n",
      "The game is finish, final score is 356\n",
      "4 \t th episode:  15019\n",
      "The game is finish, final score is 327\n",
      "5 \t th episode:  11856\n",
      "The game is finish, final score is 345\n",
      "6 \t th episode:  12811\n",
      "The game is finish, final score is 475\n",
      "7 \t th episode:  25738\n",
      "The game is finish, final score is 542\n",
      "8 \t th episode:  39557\n",
      "The game is finish, final score is 275\n",
      "9 \t th episode:  8733\n",
      "The game is finish, final score is 413\n",
      "10 \t th episode:  19014\n",
      "The game is finish, final score is 305\n",
      "11 \t th episode:  10028\n",
      "The game is finish, final score is 264\n",
      "12 \t th episode:  7389\n",
      "The game is finish, final score is 408\n",
      "13 \t th episode:  19893\n",
      "The game is finish, final score is 166\n",
      "14 \t th episode:  2460\n",
      "The game is finish, final score is 178\n",
      "15 \t th episode:  3246\n",
      "The game is finish, final score is 187\n",
      "16 \t th episode:  2870\n",
      "The game is finish, final score is 369\n",
      "17 \t th episode:  16357\n",
      "The game is finish, final score is 513\n",
      "18 \t th episode:  32570\n",
      "The game is finish, final score is 158\n",
      "19 \t th episode:  2640\n",
      "The game is finish, final score is 379\n",
      "20 \t th episode:  15892\n",
      "The game is finish, final score is 454\n",
      "21 \t th episode:  26742\n",
      "The game is finish, final score is 330\n",
      "22 \t th episode:  12434\n",
      "The game is finish, final score is 388\n",
      "23 \t th episode:  16127\n",
      "The game is finish, final score is 409\n",
      "24 \t th episode:  18005\n",
      "The game is finish, final score is 402\n",
      "25 \t th episode:  19022\n",
      "The game is finish, final score is 411\n",
      "26 \t th episode:  20330\n",
      "The game is finish, final score is 240\n",
      "27 \t th episode:  6677\n",
      "The game is finish, final score is 338\n",
      "28 \t th episode:  12108\n",
      "The game is finish, final score is 242\n",
      "29 \t th episode:  5968\n",
      "The game is finish, final score is 376\n",
      "30 \t th episode:  17654\n",
      "The game is finish, final score is 229\n",
      "31 \t th episode:  5718\n",
      "The game is finish, final score is 370\n",
      "32 \t th episode:  17849\n",
      "The game is finish, final score is 254\n",
      "33 \t th episode:  6594\n",
      "The game is finish, final score is 355\n",
      "34 \t th episode:  13830\n",
      "The game is finish, final score is 388\n",
      "35 \t th episode:  16333\n",
      "The game is finish, final score is 496\n",
      "36 \t th episode:  30219\n",
      "The game is finish, final score is 166\n",
      "37 \t th episode:  2824\n",
      "The game is finish, final score is 515\n",
      "38 \t th episode:  31938\n",
      "The game is finish, final score is 388\n",
      "39 \t th episode:  17328\n",
      "The game is finish, final score is 241\n",
      "40 \t th episode:  6577\n",
      "The game is finish, final score is 322\n",
      "41 \t th episode:  11950\n",
      "The game is finish, final score is 126\n",
      "42 \t th episode:  1535\n",
      "The game is finish, final score is 309\n",
      "43 \t th episode:  10086\n",
      "The game is finish, final score is 445\n",
      "44 \t th episode:  25297\n",
      "The game is finish, final score is 313\n",
      "45 \t th episode:  11871\n",
      "The game is finish, final score is 438\n",
      "46 \t th episode:  24239\n",
      "The game is finish, final score is 348\n",
      "47 \t th episode:  13960\n",
      "The game is finish, final score is 178\n",
      "48 \t th episode:  3260\n",
      "The game is finish, final score is 104\n",
      "49 \t th episode:  797\n",
      "The game is finish, final score is 385\n",
      "50 \t th episode:  16689\n",
      "The game is finish, final score is 395\n",
      "51 \t th episode:  18206\n",
      "The game is finish, final score is 335\n",
      "52 \t th episode:  13244\n",
      "The game is finish, final score is 346\n",
      "53 \t th episode:  13672\n",
      "The game is finish, final score is 205\n",
      "54 \t th episode:  4115\n",
      "The game is finish, final score is 369\n",
      "55 \t th episode:  16954\n",
      "The game is finish, final score is 350\n",
      "56 \t th episode:  13931\n",
      "The game is finish, final score is 292\n",
      "57 \t th episode:  9900\n",
      "The game is finish, final score is 491\n",
      "58 \t th episode:  28290\n",
      "The game is finish, final score is 302\n",
      "59 \t th episode:  10370\n",
      "The game is finish, final score is 458\n",
      "60 \t th episode:  24054\n",
      "The game is finish, final score is 218\n",
      "61 \t th episode:  4913\n",
      "The game is finish, final score is 396\n",
      "62 \t th episode:  19880\n",
      "The game is finish, final score is 429\n",
      "63 \t th episode:  21301\n",
      "The game is finish, final score is 356\n",
      "64 \t th episode:  15514\n",
      "The game is finish, final score is 361\n",
      "65 \t th episode:  15057\n",
      "The game is finish, final score is 218\n",
      "66 \t th episode:  4984\n",
      "The game is finish, final score is 132\n",
      "67 \t th episode:  1594\n",
      "The game is finish, final score is 395\n",
      "68 \t th episode:  18654\n",
      "The game is finish, final score is 366\n",
      "69 \t th episode:  15632\n",
      "The game is finish, final score is 217\n",
      "70 \t th episode:  4659\n",
      "The game is finish, final score is 116\n",
      "71 \t th episode:  1157\n",
      "The game is finish, final score is 409\n",
      "72 \t th episode:  19781\n",
      "The game is finish, final score is 311\n",
      "73 \t th episode:  11508\n",
      "The game is finish, final score is 477\n",
      "74 \t th episode:  28561\n",
      "The game is finish, final score is 311\n",
      "75 \t th episode:  10846\n",
      "The game is finish, final score is 307\n",
      "76 \t th episode:  10902\n",
      "The game is finish, final score is 345\n",
      "77 \t th episode:  13113\n",
      "The game is finish, final score is 431\n",
      "78 \t th episode:  21917\n",
      "The game is finish, final score is 385\n",
      "79 \t th episode:  17528\n",
      "The game is finish, final score is 461\n",
      "80 \t th episode:  23935\n",
      "The game is finish, final score is 353\n",
      "81 \t th episode:  15427\n",
      "The game is finish, final score is 450\n",
      "82 \t th episode:  24202\n",
      "The game is finish, final score is 385\n",
      "83 \t th episode:  16886\n",
      "The game is finish, final score is 308\n",
      "84 \t th episode:  10610\n",
      "The game is finish, final score is 462\n",
      "85 \t th episode:  26281\n",
      "The game is finish, final score is 294\n",
      "86 \t th episode:  9753\n",
      "The game is finish, final score is 289\n",
      "87 \t th episode:  9426\n",
      "The game is finish, final score is 333\n",
      "88 \t th episode:  12617\n",
      "The game is finish, final score is 427\n",
      "89 \t th episode:  22734\n",
      "The game is finish, final score is 515\n",
      "90 \t th episode:  33791\n",
      "The game is finish, final score is 245\n",
      "91 \t th episode:  7017\n",
      "The game is finish, final score is 286\n",
      "92 \t th episode:  9188\n",
      "The game is finish, final score is 308\n",
      "93 \t th episode:  10316\n",
      "The game is finish, final score is 358\n",
      "94 \t th episode:  15491\n",
      "The game is finish, final score is 292\n",
      "95 \t th episode:  9679\n",
      "The game is finish, final score is 499\n",
      "96 \t th episode:  30929\n",
      "The game is finish, final score is 404\n",
      "97 \t th episode:  18332\n",
      "The game is finish, final score is 328\n",
      "98 \t th episode:  12487\n",
      "The game is finish, final score is 411\n",
      "99 \t th episode:  19491\n",
      "166.0\n"
     ]
    }
   ],
   "source": [
    "random_agent = Random_Agent()\n",
    "\n",
    "final_rewards = [] # sum of the score at each step\n",
    "scores = []\n",
    "\n",
    "start_time = time.time()\n",
    "for i in range(100):\n",
    "    game = Game(screen_x, screen_y, end_line, balls_setting, max_random_ball_level)\n",
    "    R, _, score = play_one_episode(game, random_agent)\n",
    "    print(i, \"\\t th episode: \", R)\n",
    "    final_rewards.append(R)\n",
    "    scores.append(score)\n",
    "end_time = time.time()\n",
    "\n",
    "print( (end_time - start_time)//60 )"
   ]
  },
  {
   "cell_type": "code",
   "execution_count": 15,
   "metadata": {},
   "outputs": [],
   "source": [
    "from matplotlib import pyplot as plt"
   ]
  },
  {
   "cell_type": "code",
   "execution_count": 24,
   "metadata": {},
   "outputs": [
    {
     "data": {
      "text/plain": [
       "(array([10., 19., 20., 21., 15.,  7.,  5.,  2.,  0.,  1.]),\n",
       " array([  76. ,  543.8, 1011.6, 1479.4, 1947.2, 2415. , 2882.8, 3350.6,\n",
       "        3818.4, 4286.2, 4754. ]),\n",
       " <a list of 10 Patch objects>)"
      ]
     },
     "execution_count": 24,
     "metadata": {},
     "output_type": "execute_result"
    },
    {
     "data": {
      "image/png": "[encoded data removed]",
      "text/plain": [
       "<Figure size 432x288 with 1 Axes>"
      ]
     },
     "metadata": {
      "needs_background": "light"
     },
     "output_type": "display_data"
    }
   ],
   "source": [
    "plt.hist(final_rewards)"
   ]
  }
 ],
 "metadata": {
  "kernelspec": {
   "display_name": "Python 3",
   "language": "python",
   "name": "python3"
  }
 },
 "nbformat": 4,
 "nbformat_minor": 2
}
