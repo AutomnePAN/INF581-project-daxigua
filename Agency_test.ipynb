{
 "cells": [
  {
   "cell_type": "markdown",
   "metadata": {},
   "source": [
    "# Project: DaXiGua Agency"
   ]
  },
  {
   "cell_type": "code",
   "execution_count": 2,
   "metadata": {},
   "outputs": [],
   "source": [
    "class Position(object):\n",
    "    def __init__(self, x, y):\n",
    "        self.x = x\n",
    "        self.y = y\n",
    "\n",
    "class Velocity(object):\n",
    "    def __init__(self, vx, vy):\n",
    "        self.x = vx\n",
    "        self.y = vy"
   ]
  },
  {
   "cell_type": "code",
   "execution_count": 1,
   "metadata": {},
   "outputs": [],
   "source": [
    "class Ball(object):\n",
    "    \n",
    "    def __init__(self, position, velocity, radius):\n",
    "        self.position = position\n",
    "        self.velocity = velocity\n",
    "        self.radius = radius\n",
    "    \n",
    "    def __str__(self):\n",
    "        return f\"Position, x: {self.position.x}, y: {self.position.y} \\nVelocity, vx: {self.velocity.x}, vy: {self.velocity.y} \\nRadius: {self.radius}\""
   ]
  },
  {
   "cell_type": "code",
   "execution_count": 1,
   "metadata": {},
   "outputs": [],
   "source": [
    "class State(object):\n",
    "    \n",
    "    def __init__(self, screen_x, screen_y, balls):\n",
    "        \"\"\"\n",
    "        screen_x: float, the width of the screen\n",
    "        screen_y: float, the height of the screen\n",
    "        balls: List[Ball], the  list of balls in the screen\n",
    "        \"\"\"\n",
    "        \n",
    "        self.screen_x = screen_x\n",
    "        self.screen_y = screen_y\n",
    "        self.balls = balls\n",
    "        \n",
    "    def plot_state(self):\n",
    "        \"\"\"\n",
    "        Plot the State with an image\n",
    "        return: None (save the image in a directory)\n",
    "        \n",
    "        \"\"\"\n",
    "        \n",
    "#         --TO DO--\n",
    "        return "
   ]
  },
  {
   "cell_type": "code",
   "execution_count": 4,
   "metadata": {},
   "outputs": [],
   "source": [
    "def evaluate_by_Gravity(state):\n",
    "    \"\"\"\n",
    "    state: State, the initial state\n",
    "    return: State, the final converged state\n",
    "    \n",
    "    implement the movement of the balls in the state by the effect of gravity\n",
    "    \"\"\"\n",
    "    \n",
    "    g = 9.8\n",
    "    amortize_factor = 0.1  # further tuning needed\n",
    "    collision_factor = 0.1  # further tuning needed\n",
    "    dt = 0.1  # time step of evaluation\n",
    "    t = 0\n",
    "    \n",
    "    frames = [state]  # store the frames of evaluation\n",
    "    converged = False  \n",
    "    \n",
    "    while not converged:\n",
    "        \n",
    "#         Check the collision\n",
    "#         --TO DO--\n",
    "#         Check the gravity effect\n",
    "#         --TO DO--\n",
    "        converged = check_converge(frames)\n",
    "        t += dt\n",
    "    return state"
   ]
  },
  {
   "cell_type": "code",
   "execution_count": 5,
   "metadata": {},
   "outputs": [],
   "source": [
    "def check_converge(frames):\n",
    "    \"\"\"\n",
    "    Check if the final state has converged\n",
    "    \n",
    "    frames: List[State], the frames stocked in order of time\n",
    "    \"\"\"\n",
    "    \n",
    "#     --TO DO--\n",
    "    return True"
   ]
  },
  {
   "cell_type": "code",
   "execution_count": 6,
   "metadata": {},
   "outputs": [],
   "source": [
    "class Game(object):\n",
    "    \n",
    "    \"\"\"\n",
    "    Implement the environment of the Game\n",
    "    \"\"\"\n",
    "    \n",
    "    def __init__(self, screen_x, screen_y, ball_setting ):\n",
    "        \"\"\"\n",
    "        screen_x: float, the width of the screen\n",
    "        screen_y: float, the height of the screen\n",
    "        ball_setting: Dict( radius: float, reward: float ), the sizes of balls and corresponding rewards used in the function\n",
    "        \"\"\"\n",
    "        \n",
    "        self.screen_x = screen_x\n",
    "        self.screen_y = screen_y\n",
    "        self.ball_setting = ball_setting\n",
    "        self.current_state = None  # TO DO\n",
    "        self.init_state()\n",
    "        \n",
    "#         --TO ADD MORE--\n",
    "        \n",
    "    def init_state(self):\n",
    "#         --TO DO--\n",
    "        return \n",
    "\n",
    "    def check_fin(self):\n",
    "#         --TO DO--\n",
    "        return \n",
    "    \n",
    "    def calculate_reward():\n",
    "#         --TO DO--\n",
    "        return \n",
    "\n",
    "#     ---TO ADD MORE---"
   ]
  }
 ],
 "metadata": {
  "kernelspec": {
   "display_name": "Python (Tensorflow)",
   "language": "python",
   "name": "tensorflow"
  },
  "language_info": {
   "codemirror_mode": {
    "name": "ipython",
    "version": 3
   },
   "file_extension": ".py",
   "mimetype": "text/x-python",
   "name": "python",
   "nbconvert_exporter": "python",
   "pygments_lexer": "ipython3",
   "version": "3.6.8"
  }
 },
 "nbformat": 4,
 "nbformat_minor": 2
}
