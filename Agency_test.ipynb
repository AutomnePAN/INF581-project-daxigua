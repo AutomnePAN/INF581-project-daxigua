{
 "cells": [
  {
   "cell_type": "markdown",
   "metadata": {},
   "source": [
    "# Project: DaXiGua Agency"
   ]
  },
  {
   "cell_type": "code",
   "execution_count": 1,
   "metadata": {},
   "outputs": [],
   "source": [
    "import copy\n",
    "import numpy as np"
   ]
  },
  {
   "cell_type": "code",
   "execution_count": 2,
   "metadata": {},
   "outputs": [],
   "source": [
    "class Position(object):\n",
    "    def __init__(self, x, y):\n",
    "        self.x = x\n",
    "        self.y = y\n",
    "\n",
    "class Velocity(object):\n",
    "    def __init__(self, vx, vy):\n",
    "        self.x = vx\n",
    "        self.y = vy"
   ]
  },
  {
   "cell_type": "code",
   "execution_count": 3,
   "metadata": {},
   "outputs": [],
   "source": [
    "class Ball(object):\n",
    "    \n",
    "    def __init__(self, position, velocity, radius, color=(255, 255, 255)):\n",
    "        \"\"\"\n",
    "        position: numpy array\n",
    "        velocity: numpy array\n",
    "        \"\"\"\n",
    "        self.position = position\n",
    "        self.velocity = velocity\n",
    "        self.radius = radius\n",
    "        self.color = color\n",
    "    \n",
    "    def __str__(self):\n",
    "        return f\"Position, x: {self.position[0]}, y: {self.position[1]} \\nVelocity, vx: {self.velocity[0]}, vy: {self.velocity[1]} \\nRadius: {self.radius}\""
   ]
  },
  {
   "cell_type": "code",
   "execution_count": 237,
   "metadata": {},
   "outputs": [],
   "source": [
    "import cv2 as cv\n",
    "\n",
    "\n",
    "class State(object):\n",
    "    \n",
    "    def __init__(self, screen_x, screen_y, balls, endline, bg_color=(0, 165, 255)):\n",
    "        \"\"\"\n",
    "        screen_x: float, the width of the screen\n",
    "        screen_y: float, the height of the screen\n",
    "        balls: List[Ball], the  list of balls in the screen\n",
    "        \"\"\"\n",
    "        self.screen_x = screen_x\n",
    "        self.screen_y = screen_y\n",
    "        assert endline < screen_y\n",
    "        self.endline = endline\n",
    "        self.balls = balls\n",
    "        self.bg_color = bg_color\n",
    "        self.canvas = InitCanvas(self.screen_x, self.screen_y, color=bg_color)\n",
    "\n",
    "    def reset_canvas(self):\n",
    "        self.canvas = InitCanvas(self.screen_x, self.screen_y, color=self.bg_color)\n",
    "\n",
    "    def plot_state(self):\n",
    "        \"\"\"Plot the State with an image\"\"\"\n",
    "        cv.line(self.canvas,\n",
    "                (0, self.screen_y - self.endline),\n",
    "                (self.screen_x, self.screen_y - self.endline),\n",
    "                (0, 0, 255), thickness=2)\n",
    "        for ball in self.balls:\n",
    "            print(ball)\n",
    "            cv.circle(self.canvas,\n",
    "                      (int(ball.position[0]), int(self.screen_y-ball.position[1]) ),\n",
    "                      ball.radius, ball.color, -1)\n",
    "\n",
    "        cv.imshow('state', self.canvas)\n",
    "        cv.waitKey(0)\n",
    "        cv.destroyWindow('state')\n",
    "\n",
    "\n",
    "def InitCanvas(width, height, color=(255, 255, 255)):\n",
    "    canvas = np.ones((height, width, 3), dtype=\"uint8\")\n",
    "    canvas[:] = color\n",
    "    return canvas"
   ]
  },
  {
   "cell_type": "code",
   "execution_count": 306,
   "metadata": {},
   "outputs": [],
   "source": [
    "def evaluate_by_gravity(state):\n",
    "    \"\"\"\n",
    "    state: State, the initial state\n",
    "    return: State, the final converged state\n",
    "    \n",
    "    implement the movement of the balls in the state by the effect of gravity\n",
    "    \"\"\"\n",
    "    \n",
    "    g = -9.8\n",
    "    amortize_factor = 0.99  # further tuning needed\n",
    "    collision_factor = 0.09  # further tuning needed\n",
    "\n",
    "    screen_limit = np.array([state.screen_x, state.screen_y])\n",
    "\n",
    "    dt = 0.01  # time step of evaluation\n",
    "    t = 0\n",
    "\n",
    "    frames = [state]  # store the frames of evaluation\n",
    "    converged = False  \n",
    "\n",
    "    balls = state.balls\n",
    "    \n",
    "    count = 0\n",
    "    \n",
    "    while not converged:\n",
    "\n",
    "        N = len(balls)\n",
    "\n",
    "        for i in range(N):\n",
    "            b = balls[i]\n",
    "            f = np.array([0, 1*g])\n",
    "\n",
    "    #         Update the velocity\n",
    "            b.velocity = (1 - amortize_factor * dt) * b.velocity + dt * f\n",
    "\n",
    "    #         Update the position\n",
    "            b.position = b.position + b.velocity * dt\n",
    "\n",
    "    #         Check collision with borders\n",
    "            for j in range(2):\n",
    "                if b.position[j] < b.radius:\n",
    "                    b.velocity[j] = 0\n",
    "                    b.position[j] = b.radius          \n",
    "\n",
    "                if b.position[j] > screen_limit[j] - b.radius:\n",
    "                    b.velocity[j] = 0\n",
    "                    b.position[j] = screen_limit[j] - b.radius\n",
    "\n",
    "    #         Check collisions between balls\n",
    "        for i in range(N):\n",
    "            for j in range(i+1, N):\n",
    "                ball_1 = balls[i]\n",
    "                ball_2 = balls[j]\n",
    "                \n",
    "                \n",
    "                if ( np.linalg.norm(ball_1.position - ball_2.position) <= ball_1.radius + ball_2.radius ):\n",
    "                    \n",
    "                    m1 = ball_1.radius\n",
    "                    m2 = ball_2.radius\n",
    "                    \n",
    "                    mid_point = (1/(m1 + m2)) * (m2 * ball_1.position +  m1 * ball_2.position)\n",
    "                    u = (ball_2.position - ball_1.position)  # uniform vector from ball 1 to ball 2\n",
    "                    u = u / np.linalg.norm(u)\n",
    "                    #  Update the positions after collision\n",
    "                    ball_1.position = mid_point - ball_1.radius * u\n",
    "                    ball_2.position = mid_point + ball_2.radius * u\n",
    "                    \n",
    "                    # Update the velocity of balls after collsion\n",
    "                    # divide the velocity to two dimension : u and n\n",
    "                    \n",
    "                    v1_u = np.dot(ball_1.velocity, u) * u\n",
    "                    v1_n = ball_1.velocity - v1_u\n",
    "                    \n",
    "                    v2_u = np.dot(ball_2.velocity, u) * u\n",
    "                    v2_n = ball_2.velocity - v2_u\n",
    "                    \n",
    "                    # the velocity of direction n does not change, but in direction u they exchange\n",
    "\n",
    "                    \n",
    "                    v1_u_after = collision_factor * ((m1 - m2) * v1_u + 2 * m2 * v2_u)/(m1 + m2)\n",
    "                    v2_u_after = collision_factor * ((m2 - m1) * v2_u + 2 * m1 * v1_u)/(m1 + m2)\n",
    "                    \n",
    "                    ball_1.velocity = amortize_factor*v1_n + v2_u_after\n",
    "                    ball_2.velocity = amortize_factor*v2_n + v1_u_after\n",
    "            \n",
    "        for i in range(N):\n",
    "            b = balls[i]\n",
    "            for j in range(2):\n",
    "                if b.position[j] < b.radius:\n",
    "                    b.velocity[j] = 0\n",
    "                    b.position[j] = b.radius          \n",
    "\n",
    "                if b.position[j] > screen_limit[j] - b.radius:\n",
    "                    b.velocity[j] = 0\n",
    "                    b.position[j] = screen_limit[j] - b.radius\n",
    "            \n",
    "        count += 1\n",
    "        for i in range(N):\n",
    "            b = balls[i]\n",
    "            if np.linalg.norm(b.velocity) < 0.05:\n",
    "                b.velocity = np.array([0,0])\n",
    "#             if count % 100 == 0:\n",
    "#                 print(b)\n",
    "    #       For debug\n",
    "#         if count % 100 ==\n",
    "        \n",
    "        frames.append( copy.deepcopy(state) )\n",
    "        converged = check_converge(frames)\n",
    "        t += dt\n",
    "        if t > 60:  # protection\n",
    "            break;\n",
    "    return state"
   ]
  },
  {
   "cell_type": "code",
   "execution_count": 307,
   "metadata": {},
   "outputs": [],
   "source": [
    "def check_converge(frames):\n",
    "    \"\"\"\n",
    "    Check if the final state has converged\n",
    "    \n",
    "    frames: List[State], the frames stocked in order of time\n",
    "    \"\"\"\n",
    "    \n",
    "    if len(frames) < 200:\n",
    "        return False\n",
    "    else:\n",
    "        last_frames = frames[-200:]\n",
    "        for frame in last_frames:\n",
    "            for b in frame.balls:\n",
    "                if np.linalg.norm(b.velocity) > 0.15:\n",
    "                    return False\n",
    "        return True"
   ]
  },
  {
   "cell_type": "code",
   "execution_count": 312,
   "metadata": {},
   "outputs": [],
   "source": [
    "state_test_1 = State(200, \n",
    "                     400, \n",
    "                     [Ball(np.array([100, 215]), np.array([10, -10.0]), 20, color=(125, 0, 0)), \n",
    "                      Ball(np.array([100, 95]), np.array([0, 0]), 95, color=(0, 20, 126)),\n",
    "                      Ball(np.array([20, 95]), np.array([10, 0]), 15, color=(129, 20, 16)),\n",
    "                      Ball(np.array([150, 95]), np.array([-10, 0]), 35, color=(127, 0, 128)),], \n",
    "                     350)"
   ]
  },
  {
   "cell_type": "code",
   "execution_count": 313,
   "metadata": {
    "scrolled": true
   },
   "outputs": [
    {
     "data": {
      "text/plain": [
       "<__main__.State at 0x153e9d92940>"
      ]
     },
     "execution_count": 313,
     "metadata": {},
     "output_type": "execute_result"
    }
   ],
   "source": [
    "evaluate_by_gravity(state_test_1)"
   ]
  },
  {
   "cell_type": "code",
   "execution_count": 310,
   "metadata": {},
   "outputs": [
    {
     "name": "stdout",
     "output_type": "stream",
     "text": [
      "Position, x: 180.0, y: 173.14368116847012 \n",
      "Velocity, vx: 0.0, vy: -0.8429674054045778 \n",
      "Radius: 20\n"
     ]
    }
   ],
   "source": [
    "print(state_test_1.balls[0])"
   ]
  },
  {
   "cell_type": "code",
   "execution_count": 314,
   "metadata": {},
   "outputs": [
    {
     "name": "stdout",
     "output_type": "stream",
     "text": [
      "Position, x: 162.13383831609383, y: 241.24818505018337 \n",
      "Velocity, vx: 2.233550980688889, vy: -1.52602079405291 \n",
      "Radius: 20\n",
      "Position, x: 97.52216411468625, y: 146.1154595009114 \n",
      "Velocity, vx: 0, vy: 0 \n",
      "Radius: 95\n",
      "Position, x: 15.0, y: 15.0 \n",
      "Velocity, vx: 0, vy: 0 \n",
      "Radius: 15\n",
      "Position, x: 165.0, y: 35.0 \n",
      "Velocity, vx: 0, vy: 0 \n",
      "Radius: 35\n"
     ]
    }
   ],
   "source": [
    "state_test_1.plot_state()"
   ]
  },
  {
   "cell_type": "code",
   "execution_count": 6,
   "metadata": {},
   "outputs": [],
   "source": [
    "class Game(object):\n",
    "    \n",
    "    \"\"\"\n",
    "    Implement the environment of the Game\n",
    "    \"\"\"\n",
    "    \n",
    "    def __init__(self, screen_x, screen_y, ball_setting ):\n",
    "        \"\"\"\n",
    "        screen_x: float, the width of the screen\n",
    "        screen_y: float, the height of the screen\n",
    "        ball_setting: Dict( radius: float, reward: float ), the sizes of balls and corresponding rewards used in the function\n",
    "        \"\"\"\n",
    "        \n",
    "        self.screen_x = screen_x\n",
    "        self.screen_y = screen_y\n",
    "        self.ball_setting = ball_setting\n",
    "        self.current_state = None  # TO DO\n",
    "        self.init_state()\n",
    "        \n",
    "#         --TO ADD MORE--\n",
    "        \n",
    "    def init_state(self):\n",
    "#         --TO DO--\n",
    "        return \n",
    "\n",
    "    def check_fin(self):\n",
    "#         --TO DO--\n",
    "        return \n",
    "    \n",
    "    def calculate_reward():\n",
    "#         --TO DO--\n",
    "        return \n",
    "\n",
    "#     ---TO ADD MORE---"
   ]
  }
 ],
 "metadata": {
  "kernelspec": {
   "display_name": "Python (Tensorflow)",
   "language": "python",
   "name": "tensorflow"
  },
  "language_info": {
   "codemirror_mode": {
    "name": "ipython",
    "version": 3
   },
   "file_extension": ".py",
   "mimetype": "text/x-python",
   "name": "python",
   "nbconvert_exporter": "python",
   "pygments_lexer": "ipython3",
   "version": "3.6.8"
  }
 },
 "nbformat": 4,
 "nbformat_minor": 2
}
