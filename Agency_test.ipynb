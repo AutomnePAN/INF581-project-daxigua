{
 "cells": [
  {
   "cell_type": "markdown",
   "metadata": {},
   "source": [
    "# Project: DaXiGua Agency"
   ]
  },
  {
   "cell_type": "code",
   "execution_count": 11,
   "metadata": {},
   "outputs": [],
   "source": [
    "from State import State\n",
    "from Movement_evaluation import evaluate_by_gravity\n",
    "import numpy as np\n",
    "from Ball import Ball\n",
    "import time"
   ]
  },
  {
   "cell_type": "code",
   "execution_count": 232,
   "metadata": {},
   "outputs": [],
   "source": [
    "from State import State\n",
    "from Ball import Ball, Position, Velocity\n",
    "import copy\n",
    "import numpy as np\n",
    "\n",
    "\n",
    "def check_converge(frames, tolerance=5):\n",
    "    \"\"\"\n",
    "    Check if the final state has converged\n",
    "    \n",
    "    frames: List[State], the frames stocked in order of time\n",
    "    \"\"\"\n",
    "    \n",
    "    last_frames = frames[-10:]\n",
    "    current_frame = last_frames[-1]\n",
    "    for frame in last_frames:\n",
    "        if len(frame.balls) != len(current_frame.balls):\n",
    "            return False\n",
    "        \n",
    "        for b1, b2 in zip(frame.balls, current_frame.balls):\n",
    "#             print(np.linalg.norm(b1.position - b2.position), b1.position, b2.position)\n",
    "            if np.linalg.norm(b1.position - b2.position) > tolerance:\n",
    "                return False\n",
    "    print(\"CONVERGE\")\n",
    "    return True\n",
    "    \n",
    "\n",
    "def evaluate_by_gravity(state, plot=False, dt=0.1, check_converge_step = 10, protection_time_limit = 30):\n",
    "    \"\"\"\n",
    "    state: State, the initial state\n",
    "    plot: bool, if plot the progress of the movement\n",
    "    return: State, the final converged state\n",
    "    \n",
    "    implement the movement of the balls in the state by the effect of gravity\n",
    "    \"\"\"\n",
    "    \n",
    "    g = -39.8\n",
    "    amortize_factor = 1.5  # further tuning needed\n",
    "    collision_factor = 0.5  # further tuning needed\n",
    "\n",
    "    screen_limit = np.array([state.screen_x, state.screen_y])\n",
    "\n",
    "    t = 0\n",
    "\n",
    "    frames = [state]  # store the frames of evaluation\n",
    "    converged = False  \n",
    "\n",
    "    balls = state.balls\n",
    "    \n",
    "    count = 0\n",
    "    \n",
    "    while not converged:\n",
    "\n",
    "        N = len(balls)\n",
    "\n",
    "        for i in range(N):\n",
    "            b = balls[i]\n",
    "            f = np.array([0, 1*g])\n",
    "\n",
    "    #         Update the velocity\n",
    "            b.velocity = (1 - amortize_factor * dt) * b.velocity + dt * f\n",
    "\n",
    "    #         Update the position\n",
    "            b.position = b.position + b.velocity * dt\n",
    "\n",
    "    #         Check collision with borders\n",
    "            for j in range(2):\n",
    "                if b.position[j] < b.radius:\n",
    "                    b.velocity[j] = 0\n",
    "                    b.position[j] = b.radius          \n",
    "                    \n",
    "                if j == 0 and b.position[j] > screen_limit[j] - b.radius:\n",
    "                    b.velocity[j] = 0\n",
    "                    b.position[j] = screen_limit[j] - b.radius\n",
    "\n",
    "    #         Check collisions between balls\n",
    "        i = 0\n",
    "        while i < len(balls):\n",
    "            j = i + 1\n",
    "            while j < len(balls):\n",
    "                ball_1 = balls[i]\n",
    "                ball_2 = balls[j]\n",
    "                \n",
    "                if ( np.linalg.norm(ball_1.position - ball_2.position) <= ball_1.radius + ball_2.radius ):\n",
    "                    \n",
    "                    m1 = ball_1.radius\n",
    "                    m2 = ball_2.radius\n",
    "                    if m1 != m2:\n",
    "                        mid_point = (1/(m1 + m2)) * (m2 * ball_1.position +  m1 * ball_2.position)\n",
    "                        u = (ball_2.position - ball_1.position)  # uniform vector from ball 1 to ball 2\n",
    "                        u = u / np.linalg.norm(u)\n",
    "                        #  Update the positions after collision\n",
    "                        ball_1.position = mid_point - ball_1.radius * u\n",
    "                        ball_2.position = mid_point + ball_2.radius * u\n",
    "\n",
    "                        # Update the velocity of balls after collsion\n",
    "                        # divide the velocity to two dimension : u and n\n",
    "\n",
    "                        v1_u = np.dot(ball_1.velocity, u) * u\n",
    "                        v1_n = ball_1.velocity - v1_u\n",
    "\n",
    "                        v2_u = np.dot(ball_2.velocity, u) * u\n",
    "                        v2_n = ball_2.velocity - v2_u\n",
    "\n",
    "                        # the velocity of direction n does not change, but in direction u they exchange\n",
    "\n",
    "\n",
    "                        v1_u_after = collision_factor * ((m1 - m2) * v1_u + 2 * m2 * v2_u)/(m1 + m2)\n",
    "                        v2_u_after = collision_factor * ((m2 - m1) * v2_u + 2 * m1 * v1_u)/(m1 + m2)\n",
    "\n",
    "                        ball_1.velocity = amortize_factor*v1_n + v2_u_after\n",
    "                        ball_2.velocity = amortize_factor*v2_n + v1_u_after\n",
    "                        j += 1\n",
    "                  \n",
    "                    else:\n",
    "                        #  Form a new ball with larger radius\n",
    "                        mid_point = (1/(m1 + m2)) * (m2 * ball_1.position +  m1 * ball_2.position)\n",
    "                        \n",
    "                        del balls[j]\n",
    "                        balls[i].position = mid_point\n",
    "                        balls[i].velocity = np.array([0, 0])\n",
    "                        balls[i].radius = 1.5*balls[i].radius  # TO MODIFIED WITH GAME SETTING\n",
    "                else:\n",
    "                    j += 1\n",
    "            i += 1\n",
    "     \n",
    "        for i in range(len(balls)):\n",
    "            b = balls[i]\n",
    "            for j in range(2):\n",
    "                if b.position[j] < b.radius:\n",
    "                    b.velocity[j] = 0\n",
    "                    b.position[j] = b.radius          \n",
    "\n",
    "                if j == 0 and b.position[j] > screen_limit[j] - b.radius:\n",
    "                    b.velocity[j] = 0\n",
    "                    b.position[j] = screen_limit[j] - b.radius\n",
    "            \n",
    "        count += 1\n",
    "        for i in range(len(balls)):\n",
    "            b = balls[i]\n",
    "            if np.linalg.norm(b.velocity) < 0.5 * -g * dt:\n",
    "                b.velocity = np.array([0,0])\n",
    "\n",
    "        if plot:\n",
    "            if count % 5 == 0:\n",
    "                state.plot_state()\n",
    "        \n",
    "        frames.append( copy.deepcopy(state) )\n",
    "        if len(frames) >= check_converge_step and len(frames) % check_converge_step == 0:\n",
    "            converged = check_converge(frames)\n",
    "        t += dt\n",
    "        if t > protection_time_limit:  # protection, need more tuning\n",
    "            break;\n",
    "    return state"
   ]
  },
  {
   "cell_type": "markdown",
   "metadata": {},
   "source": [
    "## Test the movement evaluation"
   ]
  },
  {
   "cell_type": "markdown",
   "metadata": {},
   "source": [
    "运动规则如下：\n",
    "\n",
    "1. 所有球受重力影响下坠\n",
    "2. 与墙壁和地板的碰撞无反弹\n",
    "3. 有空气阻力，小球下落速度越大阻力越大\n",
    "4. 所有球之间的碰撞有一定的速度损失，并非完全弹性碰撞\n",
    "5. 两个同样大小的小球相撞后合成新的小球，新的小球半径增大50% （这一条需根据具体游戏规则再进行修改）"
   ]
  },
  {
   "cell_type": "code",
   "execution_count": 239,
   "metadata": {},
   "outputs": [],
   "source": [
    "state_test_1 = State(300, \n",
    "                     600, \n",
    "                     [Ball(np.array([100, 355]), np.array([-10, -10.0]), 20, color=(125, 0, 0)), \n",
    "                      Ball(np.array([50, 20]), np.array([20, 0]), 30, color=(126, 120, 0)),\n",
    "                      Ball(np.array([60, 215]), np.array([-10, -10.0]), 30, color=(125, 120, 0)), \n",
    "                      Ball(np.array([100, 20]), np.array([0, 0]), 20, color=(126, 20, 0)), \n",
    "                      Ball(np.array([250, 156]), np.array([-10, 0]), 40, color=(0, 20, 126)),\n",
    "                      Ball(np.array([90, 56]), np.array([0, 0]), 50, color=(10, 90, 55)), \n",
    "                      Ball(np.array([240, 72]), np.array([0, 10]), 40, color=(0, 20, 126)),\n",
    "                      Ball(np.array([150, 156]), np.array([-10, 3]), 10, color=(0, 90, 26)), \n",
    "                      Ball(np.array([140, 272]), np.array([29, 10]), 10, color=(0, 90, 26)),], \n",
    "                     500)"
   ]
  },
  {
   "cell_type": "markdown",
   "metadata": {},
   "source": [
    "### Initial State\n",
    "<img src = \"figures/sample_1.PNG\" width=\"200\"/>"
   ]
  },
  {
   "cell_type": "code",
   "execution_count": 240,
   "metadata": {},
   "outputs": [
    {
     "name": "stdout",
     "output_type": "stream",
     "text": [
      "Position, x: 100, y: 355 \n",
      "Velocity, vx: -10.0, vy: -10.0 \n",
      "Radius: 20\n",
      "\n",
      "Position, x: 50, y: 20 \n",
      "Velocity, vx: 20, vy: 0 \n",
      "Radius: 30\n",
      "\n",
      "Position, x: 60, y: 215 \n",
      "Velocity, vx: -10.0, vy: -10.0 \n",
      "Radius: 30\n",
      "\n",
      "Position, x: 100, y: 20 \n",
      "Velocity, vx: 0, vy: 0 \n",
      "Radius: 20\n",
      "\n",
      "Position, x: 250, y: 156 \n",
      "Velocity, vx: -10, vy: 0 \n",
      "Radius: 40\n",
      "\n",
      "Position, x: 90, y: 56 \n",
      "Velocity, vx: 0, vy: 0 \n",
      "Radius: 50\n",
      "\n",
      "Position, x: 240, y: 72 \n",
      "Velocity, vx: 0, vy: 10 \n",
      "Radius: 40\n",
      "\n",
      "Position, x: 150, y: 156 \n",
      "Velocity, vx: -10, vy: 3 \n",
      "Radius: 10\n",
      "\n",
      "Position, x: 140, y: 272 \n",
      "Velocity, vx: 29, vy: 10 \n",
      "Radius: 10\n",
      "\n",
      "----------------------------------------------------------------\n"
     ]
    }
   ],
   "source": [
    "state_test_1.plot_state()"
   ]
  },
  {
   "cell_type": "code",
   "execution_count": 244,
   "metadata": {
    "scrolled": true
   },
   "outputs": [
    {
     "name": "stdout",
     "output_type": "stream",
     "text": [
      "CONVERGE\n",
      "Using  0.008975505828857422 s\n"
     ]
    }
   ],
   "source": [
    "start_time = time.time()\n",
    "evaluate_by_gravity(state_test_1, plot=False)\n",
    "end_time  = time.time()\n",
    "print(\"Using \", end_time - start_time, \"s\")"
   ]
  },
  {
   "cell_type": "code",
   "execution_count": 245,
   "metadata": {
    "scrolled": false
   },
   "outputs": [
    {
     "name": "stdout",
     "output_type": "stream",
     "text": [
      "Position, x: 117.79010650587355, y: 30.0 \n",
      "Velocity, vx: 0, vy: 0 \n",
      "Radius: 30.0\n",
      "\n",
      "Position, x: 45.0, y: 45.08247871370489 \n",
      "Velocity, vx: 0, vy: 0 \n",
      "Radius: 45.0\n",
      "\n",
      "Position, x: 201.99018048560558, y: 60.0 \n",
      "Velocity, vx: 0, vy: 0 \n",
      "Radius: 60.0\n",
      "\n",
      "Position, x: 250.0, y: 157.86137296944818 \n",
      "Velocity, vx: 0.0, vy: -5.930198589860605 \n",
      "Radius: 50\n",
      "\n",
      "Position, x: 285.0, y: 15.0 \n",
      "Velocity, vx: 0, vy: 0 \n",
      "Radius: 15.0\n",
      "\n",
      "----------------------------------------------------------------\n"
     ]
    }
   ],
   "source": [
    "state_test_1.plot_state()"
   ]
  },
  {
   "cell_type": "markdown",
   "metadata": {},
   "source": [
    "### State after evaluation\n",
    "<img src = \"figures/sample_1_res.PNG\" width=\"200\"/>"
   ]
  },
  {
   "cell_type": "code",
   "execution_count": 250,
   "metadata": {},
   "outputs": [],
   "source": [
    "state_test_1.balls.append( Ball(np.array([150, 550]), np.array([0, 0.0]), 33, color=(150, 100, 247)) )"
   ]
  },
  {
   "cell_type": "code",
   "execution_count": 251,
   "metadata": {},
   "outputs": [
    {
     "name": "stdout",
     "output_type": "stream",
     "text": [
      "Position, x: 117.79303504751348, y: 30.0 \n",
      "Velocity, vx: 0, vy: 0 \n",
      "Radius: 30.0\n",
      "\n",
      "Position, x: 45.0, y: 45.0 \n",
      "Velocity, vx: 0, vy: 0 \n",
      "Radius: 45.0\n",
      "\n",
      "Position, x: 201.99393962866273, y: 60.0 \n",
      "Velocity, vx: 0, vy: 0 \n",
      "Radius: 60.0\n",
      "\n",
      "Position, x: 250.0, y: 157.8637268704916 \n",
      "Velocity, vx: 0.0, vy: -5.929169550405437 \n",
      "Radius: 50\n",
      "\n",
      "Position, x: 285.0, y: 15.0 \n",
      "Velocity, vx: 0, vy: 0 \n",
      "Radius: 15.0\n",
      "\n",
      "Position, x: 33.0, y: 121.3024995157705 \n",
      "Velocity, vx: 0.0, vy: -2.878243473715032 \n",
      "Radius: 33\n",
      "\n",
      "Position, x: 150, y: 550 \n",
      "Velocity, vx: 0.0, vy: 0.0 \n",
      "Radius: 33\n",
      "\n",
      "----------------------------------------------------------------\n"
     ]
    }
   ],
   "source": [
    "state_test_1.plot_state()"
   ]
  },
  {
   "cell_type": "code",
   "execution_count": 252,
   "metadata": {},
   "outputs": [
    {
     "name": "stdout",
     "output_type": "stream",
     "text": [
      "CONVERGE\n"
     ]
    },
    {
     "data": {
      "text/plain": [
       "<State.State at 0x27eb3b5f7b8>"
      ]
     },
     "execution_count": 252,
     "metadata": {},
     "output_type": "execute_result"
    }
   ],
   "source": [
    "evaluate_by_gravity(state_test_1, plot=False)"
   ]
  },
  {
   "cell_type": "code",
   "execution_count": 253,
   "metadata": {},
   "outputs": [
    {
     "name": "stdout",
     "output_type": "stream",
     "text": [
      "Position, x: 118.57646313726163, y: 30.0 \n",
      "Velocity, vx: 0, vy: 0 \n",
      "Radius: 30.0\n",
      "\n",
      "Position, x: 45.0, y: 45.0 \n",
      "Velocity, vx: 0, vy: 0 \n",
      "Radius: 45.0\n",
      "\n",
      "Position, x: 208.95328574436377, y: 60.0 \n",
      "Velocity, vx: 0, vy: 0 \n",
      "Radius: 60.0\n",
      "\n",
      "Position, x: 250.0, y: 160.68734309943397 \n",
      "Velocity, vx: 0.0, vy: -4.985689289292827 \n",
      "Radius: 50\n",
      "\n",
      "Position, x: 285.0, y: 15.0 \n",
      "Velocity, vx: 0, vy: 0 \n",
      "Radius: 15.0\n",
      "\n",
      "Position, x: 112.2178100593409, y: 110.02564092219997 \n",
      "Velocity, vx: -2.5632457433005644, vy: -5.77583870485226 \n",
      "Radius: 49.5\n",
      "\n",
      "----------------------------------------------------------------\n"
     ]
    }
   ],
   "source": [
    "state_test_1.plot_state()"
   ]
  },
  {
   "cell_type": "code",
   "execution_count": 10,
   "metadata": {},
   "outputs": [],
   "source": [
    "class Game(object):\n",
    "    \n",
    "    \"\"\"\n",
    "    Implement the environment of the Game\n",
    "    \"\"\"\n",
    "    \n",
    "    def __init__(self, screen_x, screen_y, ball_setting ):\n",
    "        \"\"\"\n",
    "        screen_x: float, the width of the screen\n",
    "        screen_y: float, the height of the screen\n",
    "        ball_setting: Dict( radius: float, reward: float ), the sizes of balls and corresponding rewards used in the function\n",
    "        \"\"\"\n",
    "        \n",
    "        self.screen_x = screen_x\n",
    "        self.screen_y = screen_y\n",
    "        self.ball_setting = ball_setting\n",
    "        self.current_state = None  # TO DO\n",
    "        self.init_state()\n",
    "        \n",
    "#         --TO ADD MORE--\n",
    "        \n",
    "    def init_state(self):\n",
    "#         --TO DO--\n",
    "        return \n",
    "\n",
    "    def check_fin(self):\n",
    "#         --TO DO--\n",
    "        return \n",
    "    \n",
    "    def calculate_reward():\n",
    "#         --TO DO--\n",
    "        return \n",
    "\n",
    "#     ---TO ADD MORE---"
   ]
  }
 ],
 "metadata": {
  "kernelspec": {
   "display_name": "Python 3",
   "language": "python",
   "name": "python3"
  },
  "language_info": {
   "codemirror_mode": {
    "name": "ipython",
    "version": 3
   },
   "file_extension": ".py",
   "mimetype": "text/x-python",
   "name": "python",
   "nbconvert_exporter": "python",
   "pygments_lexer": "ipython3",
   "version": "3.7.6"
  }
 },
 "nbformat": 4,
 "nbformat_minor": 2
}
